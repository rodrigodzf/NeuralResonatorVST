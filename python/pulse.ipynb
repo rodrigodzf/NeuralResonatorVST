{
 "cells": [
  {
   "cell_type": "code",
   "execution_count": null,
   "metadata": {},
   "outputs": [],
   "source": [
    "# generate a pulse train\n",
    "\n",
    "import numpy as np\n",
    "from scipy import signal\n",
    "import matplotlib.pyplot as plt\n",
    "import IPython.display as ipd\n",
    "import soundfile as sf\n",
    "\n",
    "sr = 44100\n",
    "dur = 1\n",
    "freq = 2\n",
    "\n",
    "t = np.linspace(0, dur, dur*sr)\n",
    "x = signal.square(2*np.pi*freq*t)\n",
    "\n",
    "plt.plot(t, x)\n",
    "\n",
    "ipd.Audio(x, rate=sr)\n",
    "\n",
    "sf.write('pulse.wav', x, sr)"
   ]
  }
 ],
 "metadata": {
  "kernelspec": {
   "display_name": "modal",
   "language": "python",
   "name": "python3"
  },
  "language_info": {
   "codemirror_mode": {
    "name": "ipython",
    "version": 3
   },
   "file_extension": ".py",
   "mimetype": "text/x-python",
   "name": "python",
   "nbconvert_exporter": "python",
   "pygments_lexer": "ipython3",
   "version": "3.10.6"
  },
  "orig_nbformat": 4,
  "vscode": {
   "interpreter": {
    "hash": "d0395e055e7d64179b33ef060b99208515b51cad56a5e9c78682ff1d1f7c45fa"
   }
  }
 },
 "nbformat": 4,
 "nbformat_minor": 2
}
